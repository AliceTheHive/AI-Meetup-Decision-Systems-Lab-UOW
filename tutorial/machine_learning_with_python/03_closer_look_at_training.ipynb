{
 "cells": [
  {
   "cell_type": "markdown",
   "metadata": {
    "collapsed": true,
    "slideshow": {
     "slide_type": "slide"
    }
   },
   "source": [
    "# Machine Learning with Python\n",
    "\n",
    "Speaker: Yingzhi Gou\n",
    "\n",
    "Decision Systems Lab,\n",
    "\n",
    "University of Wollongong\n",
    "\n",
    "**NOTE** this jupyter notebook is available on github https://github.com/YingzhiGou/AI-Meetup-Decision-Systems-Lab-UOW\n"
   ]
  },
  {
   "cell_type": "markdown",
   "metadata": {
    "ExecuteTime": {
     "end_time": "2017-08-28T10:00:34.665561Z",
     "start_time": "2017-08-28T10:00:34.658733Z"
    },
    "slideshow": {
     "slide_type": "slide"
    }
   },
   "source": [
    "# Acknowledgement\n",
    "\n",
    "source code in this tutorial is based on the book **Hands-On Machine Learning with Scikit-Learn and TensorFlow: Concepts, Tools, and Techniques to Build Intelligent Systems** by *Aurélien Géron*"
   ]
  },
  {
   "cell_type": "markdown",
   "metadata": {
    "slideshow": {
     "slide_type": "slide"
    }
   },
   "source": [
    "# Understand Training\n",
    "\n",
    "> **Training** is teaching, or developing in oneself or others, any skills and knowledge that relate to specific useful competencies. Training has specific goals of improving one's capability, capacity, productivity and performance.\n"
   ]
  },
  {
   "cell_type": "markdown",
   "metadata": {
    "slideshow": {
     "slide_type": "subslide"
    }
   },
   "source": [
    "* what does it mean for machine learning models?\n",
    "    * normally involves to find a set of model parameters s.t. the value of a given cost/error function is minimized.\n",
    "    * one example of the cost functions is Mean Square Error (MSE)\n"
   ]
  },
  {
   "cell_type": "markdown",
   "metadata": {
    "slideshow": {
     "slide_type": "subslide"
    }
   },
   "source": [
    "* How do we train a machine learning model?\n",
    "    * by using a direct \"closed-form\"equation that directly computes the model parameters that best fit the model to the training examples (training set).\n",
    "    * using a iterative optimization approach, called Gradient Descent, that gradually tweaks the model parameters to minimize the cost function"
   ]
  },
  {
   "cell_type": "markdown",
   "metadata": {
    "slideshow": {
     "slide_type": "slide"
    }
   },
   "source": [
    "# Linear Regression\n",
    "\n",
    "This model is a linear function of the input features.\n",
    "Given the input $X = \\langle x_1, x_2, \\ldots, x_n \\rangle$, the linear regression model is defined as,\n",
    "$$ \\hat{y} = \\theta_0 + \\theta_1x_1 + \\theta_2x_2 + \\ldots + \\theta_nx_n $$\n",
    "where \n",
    "* $\\hat{y}$ is the predicted value\n",
    "* $n$ is the number of features (input)\n",
    "* $x_i$ is the value of the $i^{th}$ feature \n",
    "* $\\theta_j$ is the $j^{th}$ model parameter\n",
    "    * $\\theta_0$ is the bias term\n",
    "    * $\\theta_1, \\theta_2, \\ldots, \\theta_n$ are the feature weights"
   ]
  },
  {
   "cell_type": "markdown",
   "metadata": {
    "slideshow": {
     "slide_type": "subslide"
    }
   },
   "source": [
    "Also in vectorized form\n",
    "\n",
    "$$ \\hat{y} = h_{\\theta}(X) = \\theta^T \\cdot X $$\n",
    "\n",
    "where function $h_\\theta$ commonly called hypothesis function using parameter $\\theta$."
   ]
  },
  {
   "cell_type": "markdown",
   "metadata": {
    "slideshow": {
     "slide_type": "subslide"
    }
   },
   "source": [
    "# Cost Function\n",
    "\n",
    "Now we need a measure of how well (or poorly) the model fits the training data. \n",
    "\n",
    "* A common performance measure of a regression model is Root Mean Square Error (RMSE).\n",
    "* the goal of the training is to minimize RMSE over training set.\n",
    "* however, in practice, we simply use Mean Square Error (MSE) which is simpler to calculate.\n",
    "\n",
    "$$ MSE(X, h_\\theta) = \\frac{1}{m}\\sum_{i=1}^{m}(\\theta^T \\cdot X^{(i)} - y^{(i)}) ^2 $$"
   ]
  },
  {
   "cell_type": "markdown",
   "metadata": {
    "slideshow": {
     "slide_type": "subslide"
    }
   },
   "source": [
    "# The Normal Equation\n",
    "\n",
    "To find $\\theta$ that minimize the cost function (MSE), there is a *close-form solution* (recalled the first way of training a model). i.e. there is a mathematical equation that gives the result directly, which is called *Normal Equation*\n",
    "\n",
    "$$ \\hat{\\theta} = (\\mathbf{X}^T \\cdot \\mathbf{X})^{-1} \\cdot \\mathbf{X}^T \\cdot \\mathbf{y} $$"
   ]
  },
  {
   "cell_type": "code",
   "execution_count": 5,
   "metadata": {
    "ExecuteTime": {
     "end_time": "2017-08-28T11:10:40.426217Z",
     "start_time": "2017-08-28T11:10:40.415696Z"
    },
    "slideshow": {
     "slide_type": "subslide"
    }
   },
   "outputs": [],
   "source": [
    "# prepare some data\n",
    "import numpy as np\n",
    "\n",
    "np.random.seed(42)  # only if you want reproduceable result\n",
    "\n",
    "X = 2 * np.random.rand(100, 1)\n",
    "y = 4 + 3 * X + np.random.randn(100, 1)"
   ]
  },
  {
   "cell_type": "code",
   "execution_count": 8,
   "metadata": {
    "ExecuteTime": {
     "end_time": "2017-08-28T11:12:56.583700Z",
     "start_time": "2017-08-28T11:12:56.261928Z"
    }
   },
   "outputs": [
    {
     "data": {
      "text/plain": [
       "<matplotlib.collections.PathCollection at 0x7fa0988be550>"
      ]
     },
     "execution_count": 8,
     "metadata": {},
     "output_type": "execute_result"
    },
    {
     "data": {
      "image/png": "[encoded data removed]",
      "text/plain": [
       "<matplotlib.figure.Figure at 0x7fa098ac1b50>"
      ]
     },
     "metadata": {},
     "output_type": "display_data"
    }
   ],
   "source": [
    "%matplotlib inline\n",
    "import matplotlib.pyplot as plt\n",
    "\n",
    "plt.scatter(X, y)"
   ]
  },
  {
   "cell_type": "code",
   "execution_count": 13,
   "metadata": {
    "ExecuteTime": {
     "end_time": "2017-08-28T11:19:01.390205Z",
     "start_time": "2017-08-28T11:19:01.383145Z"
    },
    "slideshow": {
     "slide_type": "subslide"
    }
   },
   "outputs": [],
   "source": [
    "# calculate inverse of the matrix X using inv() function\n",
    "# from NumPy's Linear Algebra module\n",
    "X_b = np.c_[np.ones((100, 1)), X]  # add x0 = 1 for each instance (why? hint \\theta_0 the bias term)\n",
    "theta_best = np.linalg.inv(X_b.T.dot(X_b)).dot(X_b.T).dot(y)"
   ]
  },
  {
   "cell_type": "markdown",
   "metadata": {
    "slideshow": {
     "slide_type": "fragment"
    }
   },
   "source": [
    "$$ \\hat{\\theta} = (\\mathbf{X}^T \\cdot \\mathbf{X})^{-1} \\cdot \\mathbf{X}^T \\cdot \\mathbf{y} $$"
   ]
  },
  {
   "cell_type": "code",
   "execution_count": 15,
   "metadata": {
    "ExecuteTime": {
     "end_time": "2017-08-28T11:19:22.551494Z",
     "start_time": "2017-08-28T11:19:22.545564Z"
    },
    "slideshow": {
     "slide_type": "fragment"
    }
   },
   "outputs": [
    {
     "name": "stdout",
     "output_type": "stream",
     "text": [
      "[[ 4.21509616]\n",
      " [ 2.77011339]]\n"
     ]
    }
   ],
   "source": [
    "print(theta_best)"
   ]
  },
  {
   "cell_type": "code",
   "execution_count": 17,
   "metadata": {
    "ExecuteTime": {
     "end_time": "2017-08-28T11:22:04.292051Z",
     "start_time": "2017-08-28T11:22:04.282998Z"
    },
    "slideshow": {
     "slide_type": "subslide"
    }
   },
   "outputs": [
    {
     "name": "stdout",
     "output_type": "stream",
     "text": [
      "[[ 4.21509616]\n",
      " [ 9.75532293]]\n"
     ]
    }
   ],
   "source": [
    "X_new = np.array([[0],[2]])\n",
    "X_new_b = np.c_[np.ones((2, 1)), X_new]\n",
    "y_predict = X_new_b.dot(theta_best)\n",
    "print(y_predict)"
   ]
  },
  {
   "cell_type": "code",
   "execution_count": 19,
   "metadata": {
    "ExecuteTime": {
     "end_time": "2017-08-28T11:22:59.931685Z",
     "start_time": "2017-08-28T11:22:59.566287Z"
    },
    "slideshow": {
     "slide_type": "subslide"
    }
   },
   "outputs": [
    {
     "data": {
      "text/plain": [
       "[<matplotlib.lines.Line2D at 0x7fa0986ba350>]"
      ]
     },
     "execution_count": 19,
     "metadata": {},
     "output_type": "execute_result"
    },
    {
     "data": {
      "image/png": "[encoded data removed]",
      "text/plain": [
       "<matplotlib.figure.Figure at 0x7fa0986ba3d0>"
      ]
     },
     "metadata": {},
     "output_type": "display_data"
    }
   ],
   "source": [
    "plt.scatter(X, y)\n",
    "plt.plot(X_new, y_predict, \"r-\")"
   ]
  },
  {
   "cell_type": "code",
   "execution_count": 20,
   "metadata": {
    "ExecuteTime": {
     "end_time": "2017-08-28T11:25:03.437384Z",
     "start_time": "2017-08-28T11:25:03.415637Z"
    },
    "slideshow": {
     "slide_type": "subslide"
    }
   },
   "outputs": [
    {
     "name": "stdout",
     "output_type": "stream",
     "text": [
      "[ 4.21509616] [[ 2.77011339]]\n"
     ]
    }
   ],
   "source": [
    "# using Scikit-learn\n",
    "from sklearn.linear_model import LinearRegression\n",
    "lin_reg = LinearRegression()\n",
    "lin_reg.fit(X, y)\n",
    "\n",
    "print(lin_reg.intercept_, lin_reg.coef_)"
   ]
  },
  {
   "cell_type": "code",
   "execution_count": 21,
   "metadata": {
    "ExecuteTime": {
     "end_time": "2017-08-28T11:25:20.264411Z",
     "start_time": "2017-08-28T11:25:20.256361Z"
    },
    "slideshow": {
     "slide_type": "fragment"
    }
   },
   "outputs": [
    {
     "data": {
      "text/plain": [
       "array([[ 4.21509616],\n",
       "       [ 9.75532293]])"
      ]
     },
     "execution_count": 21,
     "metadata": {},
     "output_type": "execute_result"
    }
   ],
   "source": [
    "lin_reg.predict(X_new)"
   ]
  },
  {
   "cell_type": "markdown",
   "metadata": {
    "slideshow": {
     "slide_type": "fragment"
    }
   },
   "source": [
    "which is the same result."
   ]
  },
  {
   "cell_type": "markdown",
   "metadata": {},
   "source": [
    "## However ...\n",
    "\n",
    "Normal Equation computes the inverse of $X^T \\cdot X$, which is an $n\\times n$ matrix (where $n$ is the number of features. The *computational complexity* of inverting such a matrix is about $O(n^{2.4})$ to $O(n^{3})$. \n",
    "\n",
    "However, again, this equation is linear with the number of training examples so it can handle large training sets efficiently, given that all the training data can fit in memory."
   ]
  },
  {
   "cell_type": "markdown",
   "metadata": {},
   "source": [
    "# Gradient Descent\n",
    "\n",
    "*Gradient Descent* is a very generic optimization algorithm capable of finding (sometimes local) optimal solutions. \n",
    "\n",
    "<img src=https://www.safaribooksonline.com/library/view/hands-on-machine-learning/9781491962282/assets/mlst_0402.png\\>"
   ]
  },
  {
   "cell_type": "code",
   "execution_count": null,
   "metadata": {
    "collapsed": true
   },
   "outputs": [],
   "source": []
  }
 ],
 "metadata": {
  "celltoolbar": "Slideshow",
  "kernelspec": {
   "display_name": "Python 3",
   "language": "python",
   "name": "python3"
  },
  "language_info": {
   "codemirror_mode": {
    "name": "ipython",
    "version": 2
   },
   "file_extension": ".py",
   "mimetype": "text/x-python",
   "name": "python",
   "nbconvert_exporter": "python",
   "pygments_lexer": "ipython2",
   "version": "2.7.13"
  },
  "toc": {
   "colors": {
    "hover_highlight": "#DAA520",
    "navigate_num": "#000000",
    "navigate_text": "#333333",
    "running_highlight": "#FF0000",
    "selected_highlight": "#FFD700",
    "sidebar_border": "#EEEEEE",
    "wrapper_background": "#FFFFFF"
   },
   "moveMenuLeft": true,
   "nav_menu": {
    "height": "12px",
    "width": "252px"
   },
   "navigate_menu": true,
   "number_sections": false,
   "sideBar": true,
   "threshold": 4,
   "toc_cell": false,
   "toc_section_display": "block",
   "toc_window_display": true,
   "widenNotebook": false
  },
  "varInspector": {
   "cols": {
    "lenName": 16,
    "lenType": 16,
    "lenVar": 40
   },
   "kernels_config": {
    "python": {
     "delete_cmd_postfix": "",
     "delete_cmd_prefix": "del ",
     "library": "var_list.py",
     "varRefreshCmd": "print(var_dic_list())"
    },
    "r": {
     "delete_cmd_postfix": ") ",
     "delete_cmd_prefix": "rm(",
     "library": "var_list.r",
     "varRefreshCmd": "cat(var_dic_list()) "
    }
   },
   "types_to_exclude": [
    "module",
    "function",
    "builtin_function_or_method",
    "instance",
    "_Feature"
   ],
   "window_display": false
  }
 },
 "nbformat": 4,
 "nbformat_minor": 2
}
