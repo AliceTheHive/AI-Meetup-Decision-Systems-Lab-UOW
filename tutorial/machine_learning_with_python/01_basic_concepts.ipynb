{
 "cells": [
  {
   "cell_type": "markdown",
   "metadata": {
    "slideshow": {
     "slide_type": "slide"
    }
   },
   "source": [
    "# Machine Learning with Python\n",
    "\n",
    "Speaker: Yingzhi Gou\n",
    "\n",
    "Decision Systems Lab,\n",
    "\n",
    "University of Wollongong\n",
    "\n",
    "**NOTE** this jupyter notebook is available on github https://github.com/YingzhiGou/AI-Meetup-Decision-Systems-Lab-UOW\n"
   ]
  },
  {
   "cell_type": "markdown",
   "metadata": {
    "slideshow": {
     "slide_type": "slide"
    }
   },
   "source": [
    "# Acknowledgement\n",
    "\n",
    "this tutorial is based on the book **Hands-On Machine Learning with Scikit-Learn and TensorFlow: Concepts, Tools, and Techniques to Build Intelligent Systems** by *Aurélien Géron*"
   ]
  },
  {
   "cell_type": "markdown",
   "metadata": {
    "slideshow": {
     "slide_type": "slide"
    }
   },
   "source": [
    "# What is machine learning?\n",
    "\n",
    "    \"A computer program is said to learn from experience $E$ with respect to some task $T$ and some performance measure $P$, if its performance on $T$, as measured by $P$, improves with experinece $E$\"\n",
    "                    ---- Tom Mitchell, 1997"
   ]
  },
  {
   "cell_type": "markdown",
   "metadata": {
    "slideshow": {
     "slide_type": "slide"
    }
   },
   "source": [
    "# Types of Machine Learning\n",
    "\n",
    "With or without human supervision?\n",
    "* Supervised Learning (classification, prediction)\n",
    "* Unsupervised Learning (clustering, visualization, dimensionality reduction, association rule mining, anomaly dection)\n",
    "* Semi-supervised Learning\n",
    "* Reinforcement Learning (e.g. to learn the policy that has the highest award)\n"
   ]
  },
  {
   "cell_type": "markdown",
   "metadata": {
    "slideshow": {
     "slide_type": "subslide"
    }
   },
   "source": [
    "Can or cannot learn incrementally on the flay?\n",
    "* online learning\n",
    "* batch learning\n",
    "\n",
    "Comapring with known data or with a abstracted model of known data?\n",
    "* instance-based learning\n",
    "* model-based learning"
   ]
  },
  {
   "cell_type": "markdown",
   "metadata": {
    "collapsed": true,
    "slideshow": {
     "slide_type": "slide"
    }
   },
   "source": [
    "# Challenges of Machine Learning\n",
    "\n",
    "* Insufficient Quantity of Training Data\n",
    "* Nonrepresentative Training Data\n",
    "* Poor-Quality Data\n",
    "* Irrelevant Features\n",
    "* Overfitting the Training Data\n",
    "* Underfitting the Training Data\n",
    "* and more "
   ]
  }
 ],
 "metadata": {
  "celltoolbar": "Slideshow",
  "kernelspec": {
   "display_name": "Python 3",
   "language": "python",
   "name": "python3"
  },
  "language_info": {
   "codemirror_mode": {
    "name": "ipython",
    "version": 2
   },
   "file_extension": ".py",
   "mimetype": "text/x-python",
   "name": "python",
   "nbconvert_exporter": "python",
   "pygments_lexer": "ipython2",
   "version": "2.7.13"
  }
 },
 "nbformat": 4,
 "nbformat_minor": 2
}
